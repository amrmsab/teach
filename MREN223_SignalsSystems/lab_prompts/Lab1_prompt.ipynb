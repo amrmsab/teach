{
 "cells": [
  {
   "cell_type": "markdown",
   "id": "f34daae5",
   "metadata": {},
   "source": [
    "# MREN223 Lab1 - Pedometer\n",
    "\n",
    "In this lab, we will look at frequency spectrums, Fourier analysis, and signal filtering to design a pedometer. \n",
    "\n",
    "A pedometer counts each step a person takes by detecting the motion of the person's hands or hips. We will use the inertial measurement unit (IMU), containing a 3-axis accelerometer, on an Arduino Nano to generate motion data of a hand, and then process this data to count the number of steps.\n",
    "\n",
    "In this lab, we will be using the following libraries:\n",
    "`pip install scipy numpy matplotlib`\n",
    "\n",
    "We advise you to scroll down to the lab description, and do steps (1) and (2) to get the Arduino work started. As it is taking its time to upload the sketch to the board, you can come up here and read the lab introduction. "
   ]
  },
  {
   "cell_type": "code",
   "execution_count": null,
   "id": "20054b6d",
   "metadata": {},
   "outputs": [],
   "source": [
    "import numpy as np\n",
    "from scipy import signal\n",
    "from scipy.fft import fft, ifft, fftfreq, fftshift\n",
    "import matplotlib.pyplot as plt\n",
    "%matplotlib inline"
   ]
  },
  {
   "cell_type": "markdown",
   "id": "60012e06",
   "metadata": {},
   "source": [
    "## Learning outcomes\n",
    "\n",
    "1. Learn to compute the Fourier and inverse Fourier transforms on Python\n",
    "2. Understand and generate frequency spectrums\n",
    "3. Understand and generate frequency response\n",
    "4. Learn filter types, how to design a filter and apply it to a signal\n",
    "5. Apply FFT and filter design to design a pedometer\n",
    "\n",
    "## Fast Fourier Transform\n",
    "\n",
    "FFT is an algorithm which enables the calculation of the discrete Fourier Transform (DFT) efficiently.\n",
    "\n",
    "We will start with an exercise to see what `fft` does. Recall that the fourier transform of a discrete signal $x[n]$ with period $N$ is\n",
    "$$y[k] = \\sum_{n=0}^{N-1} x[n] e^{-j \\frac{2 \\pi}{N} k}$$\n",
    "\n",
    "*Exercise:* Consider the discrete signal $x[n]$ which involves a repeating pattern $[1,2,1,-1,1]$. Calculate its Fourier transform $y[k]$.\n",
    "\n",
    "We will now compute $y[k]$ using `scipy.fft.fft`."
   ]
  },
  {
   "cell_type": "code",
   "execution_count": null,
   "id": "1fe39a0b",
   "metadata": {},
   "outputs": [],
   "source": [
    "x = np.array([1.0, 2.0, 1.0, -1.0, 1])\n",
    "\n",
    "y = fft(x)\n",
    "y"
   ]
  },
  {
   "cell_type": "markdown",
   "id": "d99bfbb5",
   "metadata": {},
   "source": [
    "We can retreive $x[n]$ by computing the inverse Fourier transform using `scipy.fft.ifft`"
   ]
  },
  {
   "cell_type": "code",
   "execution_count": null,
   "id": "19ddbc56",
   "metadata": {},
   "outputs": [],
   "source": [
    "yinv = ifft(y)\n",
    "yinv"
   ]
  },
  {
   "cell_type": "markdown",
   "id": "06a0b394",
   "metadata": {},
   "source": [
    "###  Visualizing FFT: Frequency Spectrum\n",
    "\n",
    "Let's now consider the sum of two complex exponential signals with frequencies $1$ and $5$ Hz.\n",
    "\n",
    "$$y(t) = e^{j \\omega_1 t} + e^{j \\omega_2 t}$$\n",
    "$$y[n] = y(nT_s)$$\n",
    "$$\\omega_1 = 2\\pi(1), \\omega_2 = 2\\pi(5) \\text{rad/s}$$"
   ]
  },
  {
   "cell_type": "code",
   "execution_count": null,
   "id": "2d8b5d85",
   "metadata": {},
   "outputs": [],
   "source": [
    "# number of signal points and sample spacing\n",
    "N, Ts = (200,  1./100.)\n",
    "\n",
    "t = np.linspace(0.0, N*Ts, N, endpoint=False)\n",
    "y = np.exp(2 * 1.j * 2.0*np.pi * t) + 0.5*np.exp(5 * 1.j * 2.0*np.pi * t)\n",
    "\n",
    "fig, (ax1, ax2) = plt.subplots(2, 1, sharex=True)\n",
    "\n",
    "ax1.plot(t, np.real(y))\n",
    "ax1.set_ylabel('$Real\\{y[n]\\}$')\n",
    "\n",
    "ax2.plot(t, np.imag(y))\n",
    "ax2.set_ylabel('$Imag\\{y[n]\\}$')\n",
    "\n",
    "ax2.set_xlabel('Time (s)')\n",
    "plt.tight_layout()"
   ]
  },
  {
   "cell_type": "markdown",
   "id": "8b8baf26",
   "metadata": {},
   "source": [
    "The FFT plot of a signal, called the **frequency spectrum** of the signal, displays the frequencies within that signal. For example, the frequency spectrum of the sum of complex exponential signals shows two peaks at the frequencies $1$ and $5$ Hz. \n",
    "\n",
    "The magnitude of the peaks informs of the coefficients preceding each exponential, showing that the $1$ Hz component is larger (or more dominant)."
   ]
  },
  {
   "cell_type": "code",
   "execution_count": null,
   "id": "9284dc9e",
   "metadata": {},
   "outputs": [],
   "source": [
    "yf = fft(y) # fft of the signal \n",
    "\n",
    "xf = fftfreq(N, Ts)\n",
    "xf = fftshift(xf) #  preparing the x-axis for the spectrum\n",
    "\n",
    "yplot = fftshift(yf)\n",
    "\n",
    "plt.plot(xf, 1.0/N * np.abs(yplot))\n",
    "plt.xlabel('Frequency (Hz)')\n",
    "plt.ylabel('Magnitude')\n",
    "plt.grid()"
   ]
  },
  {
   "cell_type": "markdown",
   "id": "1e0be946",
   "metadata": {},
   "source": [
    "*Exercise:* Change the frequencies of the complex exponentials and see how they change the frequency spectrum. Test negative frequencies. Note: ensure the sampling frequency $f_s = 1/T_s$ is more than twice the largest frequency in the signals you test.\n",
    "\n",
    "Similarly, we can do the same with sinusoidal signals. Consider a composite signal of three sinosoids with frequencies $3$ and $5$ and $40$ Hz and a ramp as given by\n",
    "\n",
    "$$y(t) = cos(2\\pi(3) t) + cos(2\\pi(5) t) + cos(2\\pi(40) t) + 0.1t$$\n",
    "$$y[n] = y(nTs)$$"
   ]
  },
  {
   "cell_type": "code",
   "execution_count": null,
   "id": "41137da0",
   "metadata": {},
   "outputs": [],
   "source": [
    "# Number of sample points\n",
    "N, Ts = (300, 1/100)\n",
    "\n",
    "t = np.linspace(0.0, N*Ts, N, endpoint=False)\n",
    "\n",
    "y = np.cos(3.0 * 2.0*np.pi*t) + 0.8*np.cos(5.0 * 2.0*np.pi*t) + 0.1*t + 0.1*np.cos(40.0 * 2.0*np.pi*t)\n",
    "\n",
    "plt.plot(t, y)\n",
    "plt.plot(t, 0.1*t)\n",
    "plt.xlabel('Time (s)')\n",
    "plt.ylabel('$y[n]$');"
   ]
  },
  {
   "cell_type": "markdown",
   "id": "7285628a",
   "metadata": {},
   "source": [
    "We find in the frequency spectrum peaks for each of these three frequencies and a peak at 0 rad/s for the ramp."
   ]
  },
  {
   "cell_type": "code",
   "execution_count": null,
   "id": "516cae69",
   "metadata": {},
   "outputs": [],
   "source": [
    "yf = fft(y)\n",
    "xf = fftfreq(N, Ts)\n",
    "xf = fftshift(xf)\n",
    "yplot = fftshift(yf)\n",
    "\n",
    "plt.plot(xf, 1.0/N * np.abs(yplot))\n",
    "plt.xlabel('Frequency (Hz)')\n",
    "plt.ylabel('Magnitude')\n",
    "plt.grid();"
   ]
  },
  {
   "cell_type": "markdown",
   "id": "6270ae63",
   "metadata": {},
   "source": [
    "## Filtering\n",
    "\n",
    "We will now design a filter to remove the frequencies we may not want in the signal.\n",
    "\n",
    "Filters can be categorized into four categories:\n",
    "1) low-pass: passes low frequencies and attenuates high frequencies\n",
    "2) high-pass: passes high frequencies and attenuates low frequencies\n",
    "3) band-pass: passes frequencies within a specified frequency range and attenuates all other frequencies\n",
    "4) band-stop: attenutaes frequencies within a specified frequency range and passes all other frequencies\n",
    "\n",
    "The `butterworth` filter in `scipy` provides a function which enables designing any of these filters with ease.\n",
    "We will design a band-pass filter to filter out the ramp and the high frequency harmonic in the above composite signal.\n",
    "\n",
    "First, we will visualize the filter."
   ]
  },
  {
   "cell_type": "code",
   "execution_count": null,
   "id": "e5f2105f",
   "metadata": {},
   "outputs": [],
   "source": [
    "b, a = signal.butter(4, [1, 15], 'bandpass', analog=True)  #4 is filter order, the higher the more precise the filter, \n",
    "                                                            #[1,15] band of frequencies in rad/s to pass\n",
    "w, h = signal.freqs(b, a) # computes the filter's frequency response\n",
    "\n",
    "plt.semilogx(w, 20*np.log10(abs(h)))\n",
    "plt.title('Butterworth filter frequency response')\n",
    "plt.xlabel('Frequency (rad/s)')\n",
    "plt.ylabel('Magnitude (dB)')\n",
    "plt.grid(which='both', axis='both')\n",
    "\n",
    "plt.axvline(1, color='green') \n",
    "plt.axvline(15, color='green');"
   ]
  },
  {
   "cell_type": "markdown",
   "id": "4ee499b2",
   "metadata": {},
   "source": [
    "A filter's **frequency response** displays the action of the filter on different frequencies. \n",
    "The x-axis is the frequency in the input signal and the y-axis is the magnitude of amplification of that frequency in the input signal. \n",
    "\n",
    "The y-axis is logarithmic, in units of dB ($=20 \\log_{10}(\\text{Magnitude})$). A magnitude of 1 = 0 dB; hence, frequencies that 'see' a response of 0 dB are passed as they are. Frequencies that see a response higher (lower) that 0 dB are amplified (attentuated). \n",
    "\n",
    "The band of the bandpass filter is between the green vertical lines."
   ]
  },
  {
   "cell_type": "code",
   "execution_count": null,
   "id": "c945f156",
   "metadata": {},
   "outputs": [],
   "source": [
    "sig = y # signal from before\n",
    "sos = signal.butter(4, [1, 10], 'bandpass', fs=100, output='sos')\n",
    "filtered = signal.sosfilt(sos, sig) # filtered signal\n",
    "\n",
    "fig, (ax1, ax2) = plt.subplots(2, 1, sharex=True)\n",
    "\n",
    "ax1.plot(t, sig)\n",
    "ax1.set_title('Before filtering')\n",
    "ax1.set_ylabel('y[n]')\n",
    "\n",
    "ax2.plot(t, filtered)\n",
    "ax2.set_title('After filtering')\n",
    "ax1.set_ylabel('y[n]')\n",
    "\n",
    "ax2.set_xlabel('Time (s)')\n",
    "plt.tight_layout();"
   ]
  },
  {
   "cell_type": "markdown",
   "id": "fa8668c6",
   "metadata": {},
   "source": [
    "To confirm that the unwanted frequencies have been filtered out, we will plot the frequency spectrum of $y[n]$ following filtering."
   ]
  },
  {
   "cell_type": "code",
   "execution_count": null,
   "id": "1b82aecc",
   "metadata": {
    "scrolled": true
   },
   "outputs": [],
   "source": [
    "y = filtered\n",
    "yf = fft(y)\n",
    "xf = fftfreq(N, Ts)\n",
    "xf = fftshift(xf)\n",
    "yplot = fftshift(yf)\n",
    "\n",
    "plt.plot(xf, 1.0/N * np.abs(yplot))\n",
    "plt.xlabel('Frequency (Hz)')\n",
    "plt.ylabel('Magnitude')\n",
    "plt.grid();"
   ]
  },
  {
   "cell_type": "markdown",
   "id": "b92da068",
   "metadata": {},
   "source": [
    "## Lab Description\n",
    "\n",
    "Retreive one Arduino Nano 33 BLE for your group. \n",
    "\n",
    "Arduino is available on Queen's lab computers on AppsAnywhere. Access https://apps.engineering.queensu.ca and open the Arduino IDE. You might have to open it twice, as it might fail to open the first time.\n",
    "\n",
    "If you are new to Arduino, have a look at the Arduino provided tutorials:https://www.arduino.cc/en/Tutorial/HomePage\n",
    "or https://technobyte.org/arduino-ide-complete-guide-beginners/\n",
    "\n",
    "Once you have familiarized yourself with Arduino. We will do the following:\n",
    "\n",
    "1) Follow the following tutorial (https://docs.arduino.cc/tutorials/nano-33-ble/imu-accelerometer), specific to Arduino Nano 33 BLE, to learn how to retrieve accelerometer data. \n",
    "The tutorial prints the accelerometer data to the Arduino IDE Serial window (https://www.arduino.cc/reference/en/language/functions/communication/serial/)\n",
    "\n",
    "Make sure you have done all the following:\n",
    "- Installed the board manager: Tools -> Boards Manager -> Arduino Mbed OS Nano Boards\n",
    "- Installed the library: Tools -> Manage Libraries -> LSM9DS1\n",
    "- Collected the accelerometer example code: File -> Examples -> Examples for any board -> Arduino_LSM9DS1 -> Simple Accelerometer\n",
    "- Selected the board: Tools -> Board -> Arduino Mbed OS Nano Boards -> Arduino Nano 33 BLE; \n",
    "- Selected the port: Tools -> Port: COM# (Arduino Nano 33 BLE); \n",
    "\n",
    "2) Compile and upload the accelerometer example to the Arduino. This might take some time. \n",
    "\n",
    "3) Open the Serial monitor. Confirm that the accelerometer's x,y, and z values are printing onto the Serial monitor. \n",
    "You can clear the output on the Serial monitor.\n",
    "\n",
    "4) Hold the Arduino Nano in your hand and simulate a few walking steps while collecting accelerometer data from the Arduino. \n",
    "Keep a count of your steps. \n",
    "Your lab partner(s) can inspect the Arduino Serial plotter as you walk to get an idea of how the data looks like for one walking step.\n",
    "Select all (Ctrl-A) and copy (Ctrl-C) the accelerometer output from the Serial monitor.\n",
    "Collect data for multiple (e.g., 5) runs, each with a different step count, to validate your method.\n",
    "\n",
    "5) Import the accelerometer data into Python.\n",
    "Have one array hold each of the accelerometer x, y and z axes output signal.\n",
    "\n",
    "6) Inspect (visualize) each of the output signals from the accelerometer x, y and z axes. Select the ax(e)s that you can process to count the number of steps. Develop a strategy to count the steps from the signal(s).\n",
    "You can resample the accelerometer data at a lower sampling rate (if you wish to).\n",
    "\n",
    "7) Pre-process the data: trim the data; design a filter to remove any noise or unwanted drift from the selected signal(s); etc. \n",
    "- Plot the filter's frequency response.\n",
    "- Plot a section of the selected signal(s) before and after filtering.\n",
    "- Plot the frequency spectrum(s) of the selected signal(s) before and after filtering.\n",
    "\n",
    "8) Write a python function that reads accelerometer data [float array] and outputs the number of steps taken [int]. "
   ]
  },
  {
   "cell_type": "code",
   "execution_count": null,
   "id": "8353ee0d",
   "metadata": {},
   "outputs": [],
   "source": []
  }
 ],
 "metadata": {
  "kernelspec": {
   "display_name": "Python 3 (ipykernel)",
   "language": "python",
   "name": "python3"
  },
  "language_info": {
   "codemirror_mode": {
    "name": "ipython",
    "version": 3
   },
   "file_extension": ".py",
   "mimetype": "text/x-python",
   "name": "python",
   "nbconvert_exporter": "python",
   "pygments_lexer": "ipython3",
   "version": "3.10.4"
  }
 },
 "nbformat": 4,
 "nbformat_minor": 5
}
