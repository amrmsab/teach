{
 "cells": [
  {
   "cell_type": "markdown",
   "id": "de3058f1",
   "metadata": {},
   "source": [
    "# MREN223 Lab3 - Communication"
   ]
  },
  {
   "cell_type": "markdown",
   "id": "2b2e6b40",
   "metadata": {},
   "source": [
    "In this lab, we will look at analog to digital conversion and Amplitude modulation. \n",
    "\n",
    "We will require the following libraries for the lab.\n",
    "`pip install scipy numpy matplotlib`"
   ]
  },
  {
   "cell_type": "code",
   "execution_count": null,
   "id": "7cfb581e",
   "metadata": {},
   "outputs": [],
   "source": [
    "import numpy as np\n",
    "import pandas as pd\n",
    "import scipy\n",
    "\n",
    "import matplotlib.pyplot as plt\n",
    "from scipy.io import wavfile\n",
    "\n",
    "%matplotlib inline"
   ]
  },
  {
   "cell_type": "code",
   "execution_count": null,
   "id": "184e2bd4",
   "metadata": {},
   "outputs": [],
   "source": [
    "# Helper functions\n",
    "def load_music(filename):\n",
    "    '''\n",
    "    Takes the location of the music WAV file as a input and returns \n",
    "    the sampling frequency (Hz) of the sound file, the time array \n",
    "    of the digital sound signal (sec), and the sound channels.\n",
    "    \n",
    "    inputs:\n",
    "        filename (str)\n",
    "    outputs:\n",
    "        fs (int)\n",
    "        t List[float]\n",
    "        channels List[List[float]]\n",
    "    '''\n",
    "    fs, data = wavfile.read(filename)\n",
    "    num_channels = np.shape(data)[1]\n",
    "    \n",
    "    L = np.shape(data)[0]\n",
    "    t = np.array(range(0, L))/fs\n",
    "\n",
    "    channels = {}\n",
    "    for n in range(num_channels):\n",
    "        channels[str(n+1)] = [data[i][n] for i in range(L)]\n",
    "    \n",
    "    return fs, t, channels\n",
    "\n",
    "def write_music(filename, data, fs):\n",
    "    '''\n",
    "    Writes the sound data into a WAV file with location filename. \n",
    "    The sampling frequency is given in Hz, and the data is given as\n",
    "    a dictionary of which the values are the channels in the music file.\n",
    "    \n",
    "    inputs:\n",
    "        filename (str)\n",
    "        data Dict{any: List[float]}\n",
    "        fs (int)\n",
    "    outputs:\n",
    "        None\n",
    "    '''\n",
    "    df = pd.DataFrame(data)\n",
    "    wavfile.write(filename=filename, rate=fs, data=np.array(df).astype(np.int16))\n",
    "    return None\n",
    "\n",
    "def freq_spectrum(data, fs, lim=None):\n",
    "    '''\n",
    "    Plots the frequency spectrum of music channels with sampling frequency fs (Hz).\n",
    "    \n",
    "    inputs:\n",
    "        data List[float]\n",
    "        fs (int)\n",
    "        lim (optional to limit plots x-axis) (float)\n",
    "    outputs:\n",
    "        None\n",
    "    '''\n",
    "    N = np.size(data)\n",
    "\n",
    "    yf = fft(data) # fft of the signal \n",
    "\n",
    "    xf = fftfreq(N, 1/fs)\n",
    "    xf = fftshift(xf) #  preparing the x-axis for the spectrum\n",
    "\n",
    "    yplot = fftshift(yf)\n",
    "\n",
    "    plt.plot(xf, 1.0/N * np.abs(yplot))\n",
    "    plt.xlabel('Frequency (Hz)')\n",
    "    plt.ylabel('Magnitude')\n",
    "    if lim is not None:\n",
    "        plt.xlim([-lim,lim])\n",
    "    plt.grid()\n",
    "    return None"
   ]
  },
  {
   "cell_type": "markdown",
   "id": "d4823906",
   "metadata": {},
   "source": [
    "## Analog-to-Digital\n",
    "\n",
    "Two parameters are of most importance when converting from analog to digital and vice-versa. The Analog to Digital Conversion (ADC) (1) sampling rate and the (2) bit-length. Both help us determine how well the information contained in the digital signal will help us reconstruct the analog signal.\n",
    "\n",
    "The **ADC sampling rate** (or sampling frequency [Hz]) involves the number of samples or data points that are taken from the analog signal within one second. We need sufficient samples to be able to reliably reconstruct the analog signal from the digital signal. \n",
    "If the sampling rate is low and the frequency of the signal is high, the ADC will not be able to collect sufficient information to reconstruct the original analog signal. Hence, the higher the frequencies in the analog signal, the higher our sampling frequency will need to be to capture them.\n",
    "Aliasing occurs when there is not enough information in the digital signal to reliably reconstruct the analog signal.\n",
    "Attempting to reconstruct the analog signal yields a signal that differs significantly from the original analog signal.\n",
    "\n",
    "The higher the sampling rate of the ADC, the higher the frequencies it can capture. However, it also comes at a memory, bandwidth, and latency cost as each additional sample needs more memory space to be stored, or bandwidth to be transmitted in communication.\n",
    "\n",
    "The ADC **bit-length** determines the resolution (precision) of the reconstructed audio. The bit-length refers to the memory allotted to each sample. If we store a sample in 1 bit, we will have a choice of 0 or 1 as the value for the sample. In 2 bits, we will have 00, 01, 10 and 11, meaning that we will have more choice in choosing how to store the sample. The figure below illustrates that having a larger bit-length allows more precise reconstruction of a sine-wave. "
   ]
  },
  {
   "attachments": {
    "0418_resolution_example%5B1%5D.jpg": {
     "image/jpeg": "[encoded data removed]"
    }
   },
   "cell_type": "markdown",
   "id": "9869088e",
   "metadata": {},
   "source": [
    "![0418_resolution_example%5B1%5D.jpg](attachment:0418_resolution_example%5B1%5D.jpg)\n",
    "*Source: Apple Inc – Soundtrack Pro 3: Audio Fundamentals*"
   ]
  },
  {
   "cell_type": "markdown",
   "id": "49de84c9",
   "metadata": {},
   "source": [
    "It can be observed in the figure, that the ADC reconstruction is in 'levels'. The number of levels allowed by some bit-length $b$ is $2^b$. \n",
    "In sound equipment, these levels correspond to voltage levels. If the speaker system's takes in 5 VDC and the bit-length is 8 bits (256 levels). Then the voltage is split to intervals of (5/256 =) 19.53 mV. The smaller the intervals, the more precise the volume from the speakers will be.\n",
    "Common bit-lengths are 4, 8, 10, 12, 14, 16, 18, 20, 24, 34. \n",
    "\n",
    "Again, while a higher bit-length allows for better resolution, it also comes at the cost of memory.\n",
    "\n",
    "To practice these concepts, we will upload a speech snippet of Morgan Freeman in the Shawshank Redemption."
   ]
  },
  {
   "cell_type": "code",
   "execution_count": null,
   "id": "389f6c43",
   "metadata": {},
   "outputs": [],
   "source": [
    "fs, t, channels = load_music('morganFreeman.wav')"
   ]
  },
  {
   "cell_type": "code",
   "execution_count": null,
   "id": "2c3799d2",
   "metadata": {},
   "outputs": [],
   "source": [
    "channel1 = np.array(channels['1'])\n",
    "channel2 = np.array(channels['2'])\n",
    "\n",
    "N = np.logical_and(165 < t, t <= 225) # trimming a second from it\n",
    "t = t[N]\n",
    "t = t - t[0]\n",
    "channel1 = channel1[N]\n",
    "channel2 = channel2[N]"
   ]
  },
  {
   "cell_type": "markdown",
   "id": "315b2195",
   "metadata": {},
   "source": [
    "### Lab Description - Part 1\n",
    "\n",
    "The snippet is already digital, but it is sampled at a high sampling rate of 48 kHz (check out `fs`) and with a bit-length of 16 bits.\n",
    "We want to resample the audio at a lower sampling rate to reduce the memory taken by the snippet while preserving our ability to hear and understand what Morgan Freeman says.\n",
    "\n",
    "- Change the sampling rate and bit-length of the audio to minimize the storage while preserving reconstruction. Save the final audio using `write_music`. \n",
    "Take note of the memory size of the original and resampled audio.\n",
    "What is the improvement in memory used?\n",
    "What sampling rate did you use, and why?\n",
    "What bit-length did you use?\n",
    "\n",
    "Note that WAV files are saved in unit16. After reducing the bit-length, you will have to map your solution to the uint16 space to save the WAV file properly."
   ]
  },
  {
   "cell_type": "markdown",
   "id": "4dd243d6",
   "metadata": {},
   "source": [
    "## Amplitude Modulation\n",
    "\n",
    "The AM button on your car's radio is short for Amplitude modulation. \n",
    "\n",
    "Amplitude modulation (AM) is a technique used for transmitting messages (audio, songs, radio show, etc) in a radio wave. \n",
    "The purpose of modulation is to allow a high frequency signal to carry the information of a message with much lower frequency. For example, AM radio operates within the frequency range 535 to 1705 kHz to carry audio signals. In the case of human speech is a morning radio show, the human vocal range in maxes at 17KHz. \n",
    "\n",
    "The high frequency signal is called a carrier signal. \n",
    "In AM, the amplitude (signal strength) of the carrier signal is varied in proportion to that of the message signal."
   ]
  },
  {
   "cell_type": "markdown",
   "id": "cd266fe8",
   "metadata": {},
   "source": [
    "Amplitude modulation is performed as follows:\n",
    "\n",
    "Let the carrier signal be a sinusoid with amplitude $A$ and carrier frequency $f_c$:\n",
    "$$c(t) = A \\sin(2 \\pi f_c t)$$\n",
    "\n",
    "and a message signal $m(t)$.\n",
    "\n",
    "The output signal is \n",
    "$$y(t) = \\left(1 + \\frac{m(t)}{A}\\right) c(t)$$\n",
    "\n",
    "Let's demonstrate AM with an example sinusoid message signal with with amplitude $A_m$ and message frequency $f_m$:\n",
    "$$m(t) = A_m \\cos(2 \\pi f_m t)$$"
   ]
  },
  {
   "cell_type": "code",
   "execution_count": null,
   "id": "ec70be96",
   "metadata": {},
   "outputs": [],
   "source": [
    "t = np.arange(0,3,0.001)\n",
    "A = 1\n",
    "m = 0.9\n",
    "fc = 10\n",
    "fm = 1\n",
    "\n",
    "carrier = A*np.sin(2*np.pi*fc*t)\n",
    "message = m*A*np.cos(2*np.pi*fm*t)\n",
    "\n",
    "plt.plot(t, carrier);\n",
    "plt.plot(t, message);\n",
    "plt.legend(['Carrier', 'Message']);"
   ]
  },
  {
   "cell_type": "code",
   "execution_count": null,
   "id": "41c51ea1",
   "metadata": {},
   "outputs": [],
   "source": [
    "output = (1 + message/A)*carrier\n",
    "plt.plot(t, output);\n",
    "plt.plot(t, message);\n",
    "plt.plot(t, message+1, 'k--');\n",
    "plt.legend(['Output', 'Message']);"
   ]
  },
  {
   "cell_type": "markdown",
   "id": "784822f6",
   "metadata": {},
   "source": [
    "### Lab Description - Part 2\n",
    "\n",
    "We will modulate the Morgan Freeman Speech from before. Use the resampled version that you have extracted. \n",
    "\n",
    "1) Choose an AM frequency from the AM frequency range given above, and construct your AM carrier signal.\n",
    "2) Modulate the Morgan Freeman speech. Prepare the plot of a 100 millisecond snippet of the AM output to show the grading TA.\n",
    "3) Next, develop an algorithm to demodulate the AM output, i.e., recover the message (speech) back from the AM output. (Hint: observe how the message envelopes the top of the AM output.)\n",
    "Save the recovered speech as a WAV file. You might play this for the grading TA.\n",
    "Prepare an explanation of your demodulation approach. "
   ]
  }
 ],
 "metadata": {
  "kernelspec": {
   "display_name": "Python 3 (ipykernel)",
   "language": "python",
   "name": "python3"
  },
  "language_info": {
   "codemirror_mode": {
    "name": "ipython",
    "version": 3
   },
   "file_extension": ".py",
   "mimetype": "text/x-python",
   "name": "python",
   "nbconvert_exporter": "python",
   "pygments_lexer": "ipython3",
   "version": "3.10.4"
  }
 },
 "nbformat": 4,
 "nbformat_minor": 5
}
