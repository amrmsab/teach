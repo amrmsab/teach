{
 "cells": [
  {
   "cell_type": "markdown",
   "id": "98f65373",
   "metadata": {},
   "source": [
    "# MREN223 Lab 0: Introduction to Signal Processing using Python\n",
    "\n",
    "In this course, we will use Python for the labs. This introductory lab will help guide you in installing the required libraries and tools.\n",
    "\n",
    "You can code Python on the Queen's lab computers on Anaconda.\n",
    "Access AppsAnywhere (https://apps.engineering.queensu.ca) and open Anaconda. \n",
    "You might have to open it twice, as it might fail to open the first time, or it might take some time to open the first time you use it.\n",
    "Anaconda's dashboard will have Jupyter and Spyder. Jupyter is the environment we used to create this lab, and you can rely on it for this course. If you want a more advanced Python IDE (for e.g., to allow you to debug your code), Spyder is a good option.\n",
    "\n",
    "To install Python on your personal computer (if you do not already have it and want to work with your personal computer), follow the instructions on this link (https://www.python.org/downloads/) to download it. Versions newer than Python 3.4 (released March 2014) and Python 2.7.9 (released December 2014) ship with pip.\n",
    "pip is the package installer for Python that we will use to install packages from the Python Package Index. The packages we'll need include \n",
    "\n",
    "```pip install numpy scipy matplotlib notebook```\n",
    "\n",
    "So go ahead and install these packages by running the above command in your Python terminal.\n",
    "\n",
    "These libraries are already available on Queen's lab computers.\n",
    "\n",
    "You can rely on jupyter notebook for this course (which 'notebook' in the above command refers to). But if you want a more advanced IDE, we recommend JetBrain's Pycharm Community which is free to download and use. You can install it by following the instructions in this link (https://www.jetbrains.com/pycharm/download/)\n",
    "\n",
    "Once the packages are installed, you can open Jupyter by typing \n",
    "\n",
    "```jupyter notebook```\n",
    "\n",
    "in the Python console.\n",
    "\n",
    "If you are new to Python, there are so many online tutorials that you can learn Python with, we did not know which to refer you to.\n",
    "\n",
    "We recommend the following to familiarize yourself with Numpy:\n",
    "https://numpy.org/doc/stable/user/absolute_beginners.html\n",
    "\n",
    "You do not need to dedicate time to learn about Scipy and matplotlib, as we will just be using a few functions here and there from those libraries. So it is completely up to you if you want to review an online source covering either Scipy and matplotlib."
   ]
  },
  {
   "cell_type": "markdown",
   "id": "a2323234",
   "metadata": {},
   "source": [
    "## Learning Outcomes\n",
    "1) Learn how to plot continuous- and discrete-time signals\n",
    "2) Learn how to plot important signals\n",
    "3) Learn signal operation, including addition and multiplication\n",
    "4) Learn convolutions\n",
    "5) Learn how to perform operations on images "
   ]
  },
  {
   "cell_type": "markdown",
   "id": "b7474df2",
   "metadata": {},
   "source": [
    "## Install and import libraries"
   ]
  },
  {
   "cell_type": "code",
   "execution_count": null,
   "id": "cd599a66",
   "metadata": {},
   "outputs": [],
   "source": [
    "import numpy as np\n",
    "\n",
    "import scipy\n",
    "from scipy import ndimage, signal\n",
    "\n",
    "import matplotlib.pyplot as plt\n",
    "import matplotlib.image as mpimg\n",
    "from matplotlib.colors import rgb_to_hsv, hsv_to_rgb\n",
    "\n",
    "%matplotlib inline"
   ]
  },
  {
   "cell_type": "markdown",
   "id": "bc1e20b3",
   "metadata": {},
   "source": [
    "## Signal Operations\n",
    "### Continuous-time (CT) signals\n",
    "\n",
    "We will use the numpy library for defining the arrays and for mathmatical computations, and the matplotlib for plotting the signals.\n",
    "\n",
    "Refer to the Numpy (https://numpy.org/doc/stable/reference/) and Matplotlib (https://matplotlib.org/stable/api/index) references to read about any of the functions used below, or to find out more functions.\n",
    "\n",
    "We will first plot a sine wave. You will be required to do a number of operations on the sine wave and plot the resulting waves. Each operation will be at most two lines of code."
   ]
  },
  {
   "cell_type": "code",
   "execution_count": null,
   "id": "b332b98f",
   "metadata": {},
   "outputs": [],
   "source": [
    "t = np.linspace(0, 2*np.pi, 100) # define a time array from 0 to 2\\pi \n",
    "\n",
    "f0 = np.sin(t) # define a sinusoid sin(t) signal\n",
    "\n",
    "plt.plot(t, f0, color='gray', linestyle='solid')\n",
    "plt.xlabel('t')\n",
    "plt.ylabel('sin(t)')\n",
    "plt.show()"
   ]
  },
  {
   "cell_type": "markdown",
   "id": "0ad6ca6d",
   "metadata": {},
   "source": [
    "#### Signal compression\n",
    "*Task:* Implement $f_1(t) = sin(2t)$"
   ]
  },
  {
   "cell_type": "markdown",
   "id": "117bf726",
   "metadata": {},
   "source": [
    "####  Horizontal flipping\n",
    "*Task:* Implement $f_2(t) = -sin(t)$"
   ]
  },
  {
   "cell_type": "markdown",
   "id": "1d0b2c66",
   "metadata": {},
   "source": [
    "#### Reversal/Vertical flipping\n",
    "*Task:* Implement $f_3(t) = sin(-t)$"
   ]
  },
  {
   "cell_type": "markdown",
   "id": "0532a7e5",
   "metadata": {},
   "source": [
    "#### Time delay\n",
    "*Task:* Implement $f_4(t) = sin(t-0.25)$"
   ]
  },
  {
   "cell_type": "markdown",
   "id": "5897f26a",
   "metadata": {},
   "source": [
    "#### Signal addition\n",
    "*Task:* Implement $f_5(t) = sin(t) + sin(t/3)$"
   ]
  },
  {
   "cell_type": "markdown",
   "id": "f17a6e5a",
   "metadata": {},
   "source": [
    "#### Periodicity of signals\n",
    "*Task:* $f_5(t)$ is the addition of two periodic signals; hence, it is also periodic. Plot one full period of $f_5(t)$"
   ]
  },
  {
   "cell_type": "markdown",
   "id": "739841fd",
   "metadata": {},
   "source": [
    "### Discrete-time (CT) signals\n",
    "\n",
    "We will now explore discrete time signals. To get a discrete signal, we will sample the CT sinusoid at a rate of 0.2 seconds per sample and plot the resulting DT signal using Numpy's stem function."
   ]
  },
  {
   "cell_type": "code",
   "execution_count": null,
   "id": "16873c0b",
   "metadata": {},
   "outputs": [],
   "source": [
    "Ts = 0.2\n",
    "n = np.array(range(0,int(2*np.pi/Ts)))\n",
    "g0 = np.sin(n*Ts)"
   ]
  },
  {
   "cell_type": "code",
   "execution_count": null,
   "id": "a48ce14b",
   "metadata": {
    "scrolled": false
   },
   "outputs": [],
   "source": [
    "plt.stem(n, g0)\n",
    "plt.xlabel('n')\n",
    "plt.ylabel('sin[n Ts]')\n",
    "plt.show()"
   ]
  },
  {
   "cell_type": "markdown",
   "id": "8df2925b",
   "metadata": {},
   "source": [
    "*Task:* Perform the operations (time shift, signal addition, reversal, flip) we did on the CT signal again on the DT signal below."
   ]
  },
  {
   "cell_type": "raw",
   "id": "78c0eb41",
   "metadata": {},
   "source": [
    "# to do"
   ]
  },
  {
   "cell_type": "markdown",
   "id": "02aab5d7",
   "metadata": {},
   "source": [
    "## Convolution\n",
    "\n",
    "In this section, we will seek an appreciation of the convolution operator.\n",
    "\n",
    "We will convolve two rectangular signals of width 100 and 50. We will generate the results and then try to explain what happens."
   ]
  },
  {
   "cell_type": "code",
   "execution_count": null,
   "id": "74b6de17",
   "metadata": {},
   "outputs": [],
   "source": [
    "import matplotlib.animation\n",
    "from IPython.display import HTML"
   ]
  },
  {
   "cell_type": "code",
   "execution_count": null,
   "id": "daf03fba",
   "metadata": {},
   "outputs": [],
   "source": [
    "signal1 = np.repeat([0., 1., 0.], 100) # rectangle signal with width 100\n",
    "signal2 = np.repeat([0., 1., 0.], 50) # rectangle signal with width 50\n",
    "\n",
    "convolution_output = signal.convolve(signal1, signal2, mode='same')"
   ]
  },
  {
   "cell_type": "code",
   "execution_count": null,
   "id": "a6ff9218",
   "metadata": {},
   "outputs": [],
   "source": [
    "fig, (ax_orig, ax_win, ax_filt) = plt.subplots(3, 1, sharex=True)\n",
    "\n",
    "ax_orig.plot(np.linspace(-150,150,300),signal1)\n",
    "ax_orig.set_title('Signal 1')\n",
    "\n",
    "ax_win.plot(np.linspace(-75,75,150),signal2)\n",
    "ax_win.set_title('Signal 2')\n",
    "\n",
    "ax_filt.plot(np.linspace(-150,150,300),convolution_output)\n",
    "ax_filt.set_title('Convolution Output')\n",
    "\n",
    "fig.tight_layout()"
   ]
  },
  {
   "cell_type": "markdown",
   "id": "f18dea7a",
   "metadata": {},
   "source": [
    "You can imagine that signal 1 is static, and signal 2 moves from left to right. When they intersect, the convolution output is equal to the area of their intersection. The maximum area of of intersection, when they completely overlap is equal to 50 (the smaller area of signal 2). This is illustrated by the animation below."
   ]
  },
  {
   "cell_type": "code",
   "execution_count": null,
   "id": "ae2afa5e",
   "metadata": {},
   "outputs": [],
   "source": [
    "%matplotlib notebook"
   ]
  },
  {
   "cell_type": "code",
   "execution_count": null,
   "id": "d7d91c49",
   "metadata": {},
   "outputs": [],
   "source": [
    "fig, (ax_orig, ax_win, ax_filt) = plt.subplots(3, 1, sharex=True)\n",
    "\n",
    "ax_orig.plot(np.linspace(-150,150,300),signal1)\n",
    "ax_orig.set_title('Signal 1')\n",
    "ax_orig.set_xlim(-150, 150), ax_win.set_xticks([])\n",
    "\n",
    "ax_win.set_title('Signal 2')\n",
    "\n",
    "ax_filt.set_ylim(0, 60)\n",
    "\n",
    "def animate(i):\n",
    "    ax_win.cla()\n",
    "    ax_win.set_title('Signal 2')\n",
    "    ax_filt.cla()\n",
    "    ax_filt.set_title('Convolution Output')\n",
    "    ax_filt.set_xlabel('Time (s)')\n",
    "    \n",
    "#     ax_win.set_xlim(-150, 150), ax_win.set_xticks([])\n",
    "    ax_filt.set_ylim(0, 60)\n",
    "    \n",
    "    t = -75+i\n",
    "    ax_win.plot(np.linspace(-75,75,150)+t,signal2, 'r')\n",
    "    ax_filt.plot(np.linspace(-150,t,t+150),convolution_output[:t+150], 'g')\n",
    "\n",
    "ani = matplotlib.animation.FuncAnimation(fig, animate, frames=200, interval=2);"
   ]
  },
  {
   "cell_type": "markdown",
   "id": "126128c9",
   "metadata": {},
   "source": [
    "*Task:* Change signal 1 so that the convolution output is a triangular signal. Plot the convolution results."
   ]
  },
  {
   "cell_type": "raw",
   "id": "aeb6d6de",
   "metadata": {},
   "source": [
    "writer = matplotlib.animation.PillowWriter(fps=15,\n",
    "                                bitrate=1800)\n",
    "ani.save('conv.gif', writer=writer)"
   ]
  },
  {
   "cell_type": "code",
   "execution_count": null,
   "id": "c409b745",
   "metadata": {},
   "outputs": [],
   "source": [
    "%matplotlib inline"
   ]
  },
  {
   "cell_type": "markdown",
   "id": "16ee1de4",
   "metadata": {},
   "source": [
    "*Task:* What signal 2 will result in the convolution yielding signal 1? Plot the results."
   ]
  },
  {
   "cell_type": "markdown",
   "id": "c6f6e6bf",
   "metadata": {},
   "source": [
    "## Images\n",
    "Images and videos are multi-dimensional signals. An image consists of a (height, width, channels) discrete data points, where height (width) in the number of vertical (horizontal) pixels, and channels is the number of 'color' channels in the image. We usually have three color channels corresponding to the intensity of red, green and blue. \n",
    "\n",
    "Each pixels will have an intensity within $[0,255]$ in each of its RGB channels. We usually work with normalized pixels, i.e., we divide all pixels by $255$ so that every value inside the image is within $[0,1]$\n",
    "\n",
    "We will import an image and do some fancy photoshop tricks on it to practice signal processing with images."
   ]
  },
  {
   "cell_type": "code",
   "execution_count": null,
   "id": "d5d6ade3",
   "metadata": {},
   "outputs": [],
   "source": [
    "# helper functions\n",
    "def plot_fig_side2side(img1, img2, cmap=None, cmap0=None,\n",
    "                       name1='Original Image', name2='Modified Image'):\n",
    "    \n",
    "    fig, (ax1, ax2) = plt.subplots(1, 2, sharey=True)\n",
    "\n",
    "    ax1.imshow(img1, cmap=cmap0);\n",
    "    ax1.set_title(name1)\n",
    "\n",
    "    ax2.imshow(img2, cmap=cmap);\n",
    "    ax2.set_title(name2)\n",
    "\n",
    "    fig.tight_layout()\n",
    "    \n",
    "    return None"
   ]
  },
  {
   "cell_type": "code",
   "execution_count": null,
   "id": "31c2dff5",
   "metadata": {},
   "outputs": [],
   "source": [
    "img = mpimg.imread('parrot.jpg')"
   ]
  },
  {
   "cell_type": "code",
   "execution_count": null,
   "id": "3c136b87",
   "metadata": {
    "scrolled": false
   },
   "outputs": [],
   "source": [
    "plt.imshow(img/255);"
   ]
  },
  {
   "cell_type": "markdown",
   "id": "1aee8804",
   "metadata": {},
   "source": [
    "*Task:* what is the (height, width, channels) of the image?"
   ]
  },
  {
   "cell_type": "code",
   "execution_count": null,
   "id": "9f014624",
   "metadata": {},
   "outputs": [],
   "source": [
    "np.shape(img)"
   ]
  },
  {
   "cell_type": "markdown",
   "id": "08a38029",
   "metadata": {},
   "source": [
    "### Convert to grayscale\n",
    "\n",
    "To convert an RGB image to a grayscale image, we perform the following weighted sum of the red ($R$), green ($G$) and blue ($B$) pixels to get the grayscale ($G$) pixels.\n",
    "\n",
    "$G=(0.299×R)+(0.587×G)+(0.114×B)$\n",
    "\n",
    "*Task:* Write a function `rgb_to_gray(img)` which computes the grayscale image. Plot the orignal and grayscale images side to side using the helper function `plot_fig_side2side`."
   ]
  },
  {
   "cell_type": "raw",
   "id": "2b6adc40",
   "metadata": {},
   "source": [
    "def rgb_to_gray(img):\n",
    "    pass"
   ]
  },
  {
   "cell_type": "markdown",
   "id": "568542b0",
   "metadata": {},
   "source": [
    "### Convert to HSV\n",
    "\n",
    "Another color space which is helpful to work in is the HSV (hue-saturation-value) space.\n",
    "\n",
    "Unlike RGB, HSV separates the *luma*: the image color intensity - from the *chroma*: the color information. \n",
    "The result is a:\n",
    "- hue ($H$) ranging from 0 to 360 degrees, encoding the color, \n",
    "    - Red falls between 0 and 60 degrees.\n",
    "    - Yellow falls between 61 and 120 degrees.\n",
    "    - Green falls between 121 and 180 degrees.\n",
    "    - Cyan falls between 181 and 240 degrees.\n",
    "    - Blue falls between 241 and 300 degrees.\n",
    "    - Magenta falls between 301 and 360 degrees.\n",
    "- saturation ($S$) describing the amount of gray in a particular color, from 0 to 100 percent, and \n",
    "- value ($V$), which works in conjunction with saturation to describe the brightness or intensity of the color, from 0 to 100 percent, where 0 is completely black, and 100 is the brightest and reveals the most color.\n",
    "\n",
    "To illustrate, inspect the HSV color space cylinder is below."
   ]
  },
  {
   "cell_type": "markdown",
   "id": "e8ca21ab",
   "metadata": {},
   "source": [
    "<img src=\"https://upload.wikimedia.org/wikipedia/commons/thumb/3/33/HSV_color_solid_cylinder_saturation_gray.png/1280px-HSV_color_solid_cylinder_saturation_gray.png\" width=\"400\" height=\"400\" />"
   ]
  },
  {
   "cell_type": "markdown",
   "id": "8a0994de",
   "metadata": {},
   "source": [
    "This is very useful in many applications. For example, you can change the color intensity or brightness of an image without modifying its color. \n",
    "\n",
    "To compute the HSV values ofan image, we follow the following calculations:\n",
    "\n",
    "We divide the R,G,B values by 255 to change their range from $[0,255]$ to $[0,1]$\n",
    "\n",
    "$R' = R/255$\n",
    "\n",
    "$G' = G/255$\n",
    "\n",
    "$B' = B/255$\n",
    "\n",
    "We then calculate the following:\n",
    "\n",
    "$C_{max} = \\max(R', G', B')$\n",
    "\n",
    "$C_{min} = \\min(R', G', B')$\n",
    "\n",
    "$\\Delta = C_{max} - C_{min}$\n",
    "\n",
    "Hue calculation:\n",
    "\n",
    "$\\begin{align}\n",
    "H &= 0, \\text{ if } \\Delta = 0\\\\ \n",
    "&= 60^o \\times \\left( \\frac{G'- B'}{\\Delta} \\mod 6 \\right), \\text{ if } C_{max} = R'\\\\\n",
    "&= 60^o \\times \\left( \\frac{B'- R'}{\\Delta} + 2 \\right), \\text{ if } C_{max} = G'\\\\\n",
    "&= 60^o \\times \\left( \\frac{R'- G'}{\\Delta} + 4 \\right), \\text{ if } C_{max} = B'\n",
    "\\end{align}$\n",
    "\n",
    "Saturation calculation:\n",
    "\n",
    "$\\begin{align}\n",
    "S &= 0, \\text{ if } C_{max} = 0\\\\ \n",
    "&=\\frac{\\Delta}{C_{max}} , \\text{ if } C_{max} \\neq 0\n",
    "\\end{align}$\n",
    "\n",
    "Value calculation:\n",
    "\n",
    "$V = C_{max}$\n",
    "\n",
    "The normalized HSV values are\n",
    "\n",
    "$H' = H/360$\n",
    "\n",
    "$S'  = S/100$\n",
    "\n",
    "$V' = V/100$\n",
    "\n",
    "*Task:* Write functions `rgb2hsv` and `hsv2rgb` which convert an image from RGB to HSV and HSV to RGB, respectively.\n",
    "\n",
    "Try to figure out the hsv to rgb equations on your own. You can confirm your equations by visiting this link: https://www.rapidtables.com/convert/color/hsv-to-rgb.html"
   ]
  },
  {
   "cell_type": "code",
   "execution_count": null,
   "id": "d66725bc",
   "metadata": {},
   "outputs": [],
   "source": [
    "def rgb2hsv(img):\n",
    "    pass\n",
    "\n",
    "def hsv2rgb(img):\n",
    "    pass"
   ]
  },
  {
   "cell_type": "markdown",
   "id": "9b3be366",
   "metadata": {},
   "source": [
    "*Task*: Convert the uploaded image to HSV, modify the brightness and plot them next to each other. "
   ]
  },
  {
   "cell_type": "markdown",
   "id": "b68a0029",
   "metadata": {},
   "source": [
    "*Task*: Convert the uploaded image to HSV, modify the saturation and plot them next to each other. "
   ]
  },
  {
   "cell_type": "markdown",
   "id": "9924954f",
   "metadata": {},
   "source": [
    "*Task*: Convert the uploaded image to HSV, add $10^o$ to the color hue. What happens? "
   ]
  },
  {
   "cell_type": "markdown",
   "id": "05facc0f",
   "metadata": {},
   "source": [
    "*Task*: Suppress the pixels that are not blue-ish.  "
   ]
  },
  {
   "cell_type": "markdown",
   "id": "b4486d27",
   "metadata": {},
   "source": [
    "### Filters\n",
    "\n",
    "We will now design filters to do more on an image than change color and intensity. \n",
    "\n",
    "First, we will design a vertical edge filter. A filter is a matrix or a vector that will convolve with the image. The vertical edge filter is a vector $k = \\begin{pmatrix} 1\\\\0\\\\-1  \\end{pmatrix}$\n",
    "\n",
    "It moves across the image. At every pixel, it takes the value of the pixel above it and mutliplies it by $1$, the pixel above it and mutliplies it by $-1$, and the pixel itself and mutliplies it by $0$, then adds all of these products.\n",
    "The result is a (pixel above) - (pixel below). If the pixel is at an edge,  i.e., there is color difference across it vertically, then the pixels above and below will be different and their subtraction will yield a high value.  \n",
    "Similarly, if the is not at an edge,  i.e., there will be zero to little color difference across it vertically, then the pixels above and below will be similar and their subtraction will yield a low value (close to zero).\n",
    "\n",
    "We move the filter to every pixel and perform the same computation to extract all vertical edges in an image. For example, below we will extract the vertical edge of the parrot."
   ]
  },
  {
   "cell_type": "code",
   "execution_count": null,
   "id": "df770533",
   "metadata": {},
   "outputs": [],
   "source": [
    "img_gray = rgb_to_gray(img/255) # convert image to gray scale\n",
    "\n",
    "k = np.array([[1],[0],[-1]])\n",
    "\n",
    "img_Vedge = ndimage.convolve(img_gray, k, mode='constant', cval=0.0)\n",
    "\n",
    "plot_fig_side2side(img_gray, (img_Vedge), cmap0='gray', cmap='gray')"
   ]
  },
  {
   "cell_type": "markdown",
   "id": "84e621ae",
   "metadata": {},
   "source": [
    "We can highlight the edges further by thresholding as below"
   ]
  },
  {
   "cell_type": "code",
   "execution_count": null,
   "id": "03506e54",
   "metadata": {},
   "outputs": [],
   "source": [
    "plot_fig_side2side(img_gray, (img_Vedge>0.1), cmap0='gray', cmap='gray')"
   ]
  },
  {
   "cell_type": "markdown",
   "id": "1bb9c981",
   "metadata": {},
   "source": [
    "*Task:* Design a horizontal edge filter"
   ]
  },
  {
   "cell_type": "markdown",
   "id": "a459ce52",
   "metadata": {},
   "source": [
    "*Task:* Combine the horizontal and vertical edge filtered images to show all edges"
   ]
  },
  {
   "cell_type": "markdown",
   "id": "b52610b5",
   "metadata": {},
   "source": [
    "*Task:* Design an edge filter that filters all edges. Hint: can you add filters?"
   ]
  },
  {
   "cell_type": "markdown",
   "id": "32f4eca1",
   "metadata": {},
   "source": [
    "*Task*: What does the filter $k = \\frac{1}{16}\\begin{pmatrix} 1 & 2 & 1\\\\2 & 4 & 2\\\\1 & 2 & 1  \\end{pmatrix}$ do?\n",
    "\n",
    "Write a function `apply_filter` that takes an RGB image and a filter. Applies the filter to each channel in the image separately multiple times (as given by repetition). \n",
    "\n",
    "You might have to apply the filter mutiple times to the image to appreciate what it does to the image."
   ]
  },
  {
   "cell_type": "code",
   "execution_count": null,
   "id": "12cce1a2",
   "metadata": {},
   "outputs": [],
   "source": [
    "def apply_filter(img, fltr, repeats=1):\n",
    "    pass"
   ]
  },
  {
   "cell_type": "code",
   "execution_count": null,
   "id": "3fe0f76d",
   "metadata": {},
   "outputs": [],
   "source": [
    "k = np.array([[1,2,1],[2,4,2],[1,2,1]])/16"
   ]
  },
  {
   "cell_type": "markdown",
   "id": "891be61b",
   "metadata": {},
   "source": [
    "*Bonus Task:* Think about something you might want to do with an image and design a new filter to do it. Demonstrate what the filter does."
   ]
  }
 ],
 "metadata": {
  "kernelspec": {
   "display_name": "Python 3 (ipykernel)",
   "language": "python",
   "name": "python3"
  },
  "language_info": {
   "codemirror_mode": {
    "name": "ipython",
    "version": 3
   },
   "file_extension": ".py",
   "mimetype": "text/x-python",
   "name": "python",
   "nbconvert_exporter": "python",
   "pygments_lexer": "ipython3",
   "version": "3.10.4"
  }
 },
 "nbformat": 4,
 "nbformat_minor": 5
}
